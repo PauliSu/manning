{
 "cells": [
  {
   "cell_type": "code",
   "execution_count": null,
   "metadata": {},
   "outputs": [],
   "source": [
    "#prod\n",
    "import geonamescache\n",
    "import pandas as pd\n",
    "import unidecode\n",
    "import re"
   ]
  },
  {
   "cell_type": "code",
   "execution_count": null,
   "metadata": {},
   "outputs": [],
   "source": [
    "gc = geonamescache.GeonamesCache()"
   ]
  },
  {
   "cell_type": "code",
   "execution_count": null,
   "metadata": {},
   "outputs": [],
   "source": [
    "# tehdään kaksi listat ja dictit\n",
    "ci=gc.get_cities()\n",
    "\n",
    "city_dict = {}\n",
    "cities = []\n",
    "countryc = []\n",
    "for key in ci:\n",
    "    #print(ci[key]['name'],ci[key]['countrycode'])\n",
    "    cities.append(ci[key]['name'])\n",
    "    countryc.append(ci[key]['countrycode'])\n",
    "\n",
    "# Create a zip object from two lists\n",
    "zipbObj = zip(cities, countryc)\n",
    " \n",
    "# Create a dictionary from zip object\n",
    "dictOfCities = dict(zipbObj)\n",
    "############\n",
    "co=gc.get_countries()\n",
    "listOfcountries=[]\n",
    "listOfcodes=[]\n",
    "for key in co:\n",
    "    #print(co[key]['name'],co[key]['iso'])\n",
    "    listOfcountries.append(co[key]['name'])\n",
    "    listOfcodes.append(co[key]['iso'])\n",
    "# Create a zip object from two lists\n",
    "zipbObj = zip(listOfcodes,listOfcountries)\n",
    " \n",
    "# Create a dictionary from zip object\n",
    "dictOfcountries = dict(zipbObj)"
   ]
  },
  {
   "cell_type": "code",
   "execution_count": null,
   "metadata": {},
   "outputs": [],
   "source": [
    "df = pd.read_csv('headlines.txt', sep=';')"
   ]
  },
  {
   "cell_type": "code",
   "execution_count": null,
   "metadata": {},
   "outputs": [],
   "source": [
    "df_list = list(df.text)"
   ]
  },
  {
   "cell_type": "code",
   "execution_count": null,
   "metadata": {},
   "outputs": [],
   "source": [
    "# for test\n",
    "df_list2 = df_list[:5]"
   ]
  },
  {
   "cell_type": "code",
   "execution_count": null,
   "metadata": {},
   "outputs": [],
   "source": [
    "def find_only_whole_word(search_string, input_string):\n",
    "  # Create a raw string with word boundaries from the user's input_string\n",
    "  raw_search_string = r\"\\b\" + search_string + r\"\\b\"\n",
    "\n",
    "  match_output = re.search(raw_search_string, input_string)\n",
    "  ##As noted by @OmPrakesh, if you want to ignore case, uncomment\n",
    "  ##the next two lines\n",
    "  #match_output = re.search(raw_search_string, input_string, \n",
    "  #                         flags=re.IGNORECASE)\n",
    "\n",
    "  no_match_was_found = ( match_output is None )\n",
    "  if no_match_was_found:\n",
    "    return False\n",
    "  else:\n",
    "    return True"
   ]
  },
  {
   "cell_type": "code",
   "execution_count": null,
   "metadata": {},
   "outputs": [],
   "source": [
    "# match longer city names first\n",
    "cities.sort(key=len)\n",
    "cities.reverse()"
   ]
  },
  {
   "cell_type": "code",
   "execution_count": null,
   "metadata": {},
   "outputs": [],
   "source": [
    "df_out = pd.DataFrame(columns=['headline', 'city', 'country'])"
   ]
  },
  {
   "cell_type": "code",
   "execution_count": null,
   "metadata": {},
   "outputs": [],
   "source": [
    "f=open(\"guru99.txt\",\"w+\")\n",
    "f.write('headline;city;country\\n')\n",
    "for h in df_list: # headlines loop \n",
    "    h_temp = unidecode.unidecode(h)\n",
    "    for ci in cities: # cities loop\n",
    "        ci = unidecode.unidecode(ci)\n",
    "        regexp = re.compile(ci)\n",
    "        if find_only_whole_word(ci,h_temp):\n",
    "            h_temp = h_temp.replace(ci,'')\n",
    "            #if ci not in ['Geneve','Sao Paulo','Hit','Bogota'] :\n",
    "            if ci not in dictOfCities:\n",
    "                ci = \"\"\n",
    "                f.write(h+\";\"+ci+\";\"+\"\\n\")\n",
    "                print(h+\"\\t\\t\"+ci+\"\\t\\t\"+\" \")\n",
    "            else:\n",
    "                #print(h+\";\"+ci+\";\"+dictOfcountries[dictOfCities[ci]])\n",
    "                f.write(h+\";\"+ci+\";\"+dictOfcountries[dictOfCities[ci]]+\"\\n\")\n",
    "                print(h+\"\\t\\t\"+ci+\"\\t\\t\"+dictOfcountries[dictOfCities[ci]])\n",
    "f.close()"
   ]
  },
  {
   "cell_type": "code",
   "execution_count": null,
   "metadata": {},
   "outputs": [],
   "source": [
    "result_df = pd.read_csv('guru99.txt',sep=\";\")"
   ]
  },
  {
   "cell_type": "code",
   "execution_count": null,
   "metadata": {},
   "outputs": [],
   "source": [
    "result_df"
   ]
  }
 ],
 "metadata": {
  "kernelspec": {
   "display_name": "Python 3",
   "language": "python",
   "name": "python3"
  },
  "language_info": {
   "codemirror_mode": {
    "name": "ipython",
    "version": 3
   },
   "file_extension": ".py",
   "mimetype": "text/x-python",
   "name": "python",
   "nbconvert_exporter": "python",
   "pygments_lexer": "ipython3",
   "version": "3.7.3"
  }
 },
 "nbformat": 4,
 "nbformat_minor": 2
}
